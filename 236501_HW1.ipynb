class BFSNode:
    def __init__(self,done, frame=None, state=None, action=None, reward=None,parent = None):
        self.frame = frame
        self.action = action
        self.reward = reward
        self.state = state
        self.parent = parent
        self.current_step = -1
        self.done = done

    def GetNext(self):
        return self.next

    def GetFrame(self):
        return self.frame

    def GetState(self):
        return self.state

    def GetReward(self):
        return self.reward

    def GetCurrent(self):
        return self.current_step

    def GetAction(self):
        return self.action

    def nodeSolution(self):
            total_reward = 0
            solution_frames = []
            curr_node = self
            #check if the first node is the root and return rewards
            while curr_node.parent:
                node_reward = curr_node.reward
                total_reward = total_reward + curr_node.reward
                curr_frame = {
                    'frame': curr_node.frame,
                    'state': curr_node.state,
                    'action': curr_node.action,
                    'reward': curr_node.reward
                }
                solution_frames = [curr_frame] + solution_frames
                curr_node = curr_node.parent
            return solution_frames, total_reward

    def getNeigbours(self):
        env.unwrapped.s = self.state
        parent = self
        neighbours = []
        for action in range(6):
            new_state, reward, done, info = env.step(action)
            new_node = BFSNode(done,env.render(mode='ansi'),new_state,action,reward,parent)
            neighbours.append(new_node)
            env.unwrapped.s = self.state
        return neighbours



def bfs(first_state):

    env.unwrapped.s = first_state
    solution_found = False
    Solution = []
    frames = []
    open_queue: queue.Queue = queue.Queue()
    bfs_reward = 0
    start_state = first_state
    path_cost = 0
    #assumed that root_node not the goal
    root_node =  BFSNode(False,env.render(mode='ansi'),first_state, None, 0,None)
    close = set()
    open_queue.put(root_node)
    while solution_found == False:
        if open_queue.empty():
            return frames,bfs_reward
        curr_node = open_queue.get()
        if curr_node not in close:
            close.add(curr_node.GetState())

        neighbors = curr_node.getNeigbours()
        for child in neighbors:
            if child.state not in close and (child not in open_queue.queue):
                if child.done:
                    frames,bfs_reward = child.nodeSolution()
                    solution_found = True
                    break
                open_queue.put(child)

    return frames,bfs_reward
